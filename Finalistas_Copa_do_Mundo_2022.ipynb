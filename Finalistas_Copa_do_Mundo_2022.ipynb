{
  "nbformat": 4,
  "nbformat_minor": 0,
  "metadata": {
    "colab": {
      "provenance": [],
      "collapsed_sections": []
    },
    "kernelspec": {
      "name": "python3",
      "display_name": "Python 3"
    },
    "language_info": {
      "name": "python"
    }
  },
  "cells": [
    {
      "cell_type": "markdown",
      "source": [
        "# Criando um algoritmo para supor os 4 finalistas da Copa de Mundo de 2022\n",
        "\n",
        "A ideia do código e propor os 4 finalistas da Copa do Mundo de 2022. O código usa como base o ranking da FIFA dos clubes para o mundial, bem como o disposição dos times em suas fases de grupos. \n",
        "\n",
        "Link da base: **[github.com/digitalinnovationone/live-coding-evitando-o-7x1-com-python-e-sql](https://github.com/digitalinnovationone/live-coding-evitando-o-7x1-com-python-e-sql)**"
      ],
      "metadata": {
        "id": "GJm-vq19ibVn"
      }
    },
    {
      "cell_type": "markdown",
      "source": [
        "## 1. Estrutura com os [Grupos e Seleções](https://global.discourse-cdn.com/nubank/original/4X/d/d/b/ddb82274a8785b60d1a19df8aeee768e87091292.jpeg), além de seus respectivos scores ([Ranking FIFA](https://www.ogol.com.br/ranking_fifa.php))"
      ],
      "metadata": {
        "id": "i1-xxLLdEgBE"
      }
    },
    {
      "cell_type": "code",
      "source": [
        "import pandas as pd\n",
        "\n",
        "df = pd.read_csv('https://raw.githubusercontent.com/digitalinnovationone/live-coding-evitando-o-7x1-com-python-e-sql/main/data.csv')"
      ],
      "metadata": {
        "id": "U1OsqB9oES9m"
      },
      "execution_count": 133,
      "outputs": []
    },
    {
      "cell_type": "markdown",
      "source": [
        "##2. Classe que representa um time, com suas características e comportamentos:"
      ],
      "metadata": {
        "id": "LT5NfOUNwXTa"
      }
    },
    {
      "cell_type": "code",
      "source": [
        "import random\n",
        "\n",
        "class Team:\n",
        "  BestScore = 1837.6 #Brasil\n",
        "  \n",
        "  def __init__(self, content):\n",
        "    \"\"\"\n",
        "    Separaçaõ do DataFrame (df) com o split '|' em dois grupos: name e score. \n",
        "    \"\"\"\n",
        "    teamData = content.split('|')\n",
        "    self.name = teamData[0]\n",
        "    self.score = float(teamData[1])\n",
        "\n",
        "  def motivation(self):\n",
        "    \"\"\" \n",
        "    A pior seleção da copa (GAN, segundo a FIFA) têm 1393.5 de score, o qual equivale a 75% do melhor score (BRA).\n",
        "    Sendo assim, para que a aleatoriedade não seja tão determinante, definimos um intervalo inicial próximo de 75.\n",
        "    Assim, por exemplo, GAN poderia ter valores entre 70~75 (aproximadamente). Por outro lado, BRA teria 70~100 (maior chance de vitória).\n",
        "    \"\"\"\n",
        "    \n",
        "    self.lastMotivation = random.uniform(70, (self.score * 100 / Team.BestScore)) \n",
        "    # \"Motivação\" para a vitória. Seria a chance de um time vencer a partida (levando em consideração, apenas, valores aleatórios baseados no Score da FIFA para cada seleção.)\n",
        "\n",
        "    return self.lastMotivation"
      ],
      "metadata": {
        "id": "jc2iDAOjwEZK"
      },
      "execution_count": 134,
      "outputs": []
    },
    {
      "cell_type": "markdown",
      "source": [
        "##3. Simulando a Fase de Grupos:"
      ],
      "metadata": {
        "id": "0rJ55ARry6o9"
      }
    },
    {
      "cell_type": "code",
      "execution_count": 135,
      "metadata": {
        "id": "ZwHNqXF6aGxr",
        "colab": {
          "base_uri": "https://localhost:8080/"
        },
        "outputId": "0b46d0f2-e984-4fe6-8d97-ed98e5f6336d"
      },
      "outputs": [
        {
          "output_type": "stream",
          "name": "stdout",
          "text": [
            "Grupo A: \n",
            "SEN = 85.17\n",
            "HOL = 82.11\n",
            "EQU = 75.95\n",
            "CAT = 72.01\n",
            "\n",
            "\n",
            "Grupo B: \n",
            "IRA = 84.72\n",
            "GAL = 82.70\n",
            "EUA = 78.37\n",
            "ING = 76.99\n",
            "\n",
            "\n",
            "Grupo C: \n",
            "MEX = 80.28\n",
            "ARG = 78.64\n",
            "POL = 76.04\n",
            "ARA = 73.01\n",
            "\n",
            "\n",
            "Grupo D: \n",
            "FRA = 89.32\n",
            "TUN = 80.99\n",
            "DIN = 80.54\n",
            "AUS = 77.47\n",
            "\n",
            "\n",
            "Grupo E: \n",
            "ALE = 82.55\n",
            "COS = 78.51\n",
            "ESP = 77.52\n",
            "JAP = 77.04\n",
            "\n",
            "\n",
            "Grupo F: \n",
            "BEL = 90.03\n",
            "MAR = 76.79\n",
            "CRO = 73.03\n",
            "CAN = 70.78\n",
            "\n",
            "\n",
            "Grupo G: \n",
            "BRA = 86.21\n",
            "SER = 82.95\n",
            "CAM = 78.46\n",
            "SUI = 73.75\n",
            "\n",
            "\n",
            "Grupo H: \n",
            "POR = 89.98\n",
            "URU = 78.60\n",
            "COR = 75.08\n",
            "GAN = 73.54\n",
            "\n",
            "\n"
          ]
        }
      ],
      "source": [
        "bestTeamsByGroup = {}\n",
        "\n",
        "for label, content in df.items():\n",
        "  team1 = Team(content[0])\n",
        "  team2 = Team(content[1])\n",
        "  team3 = Team(content[2])\n",
        "  team4 = Team(content[3])  \n",
        "  bestTeamsByGroup[label] = sorted([team1, team2, team3, team4], key=Team.motivation, reverse=True) #Vitória na fase de grupos. Base é a motivação. \n",
        "\n",
        "for grupo, teams in bestTeamsByGroup.items():\n",
        "  print(f'Grupo {grupo}: \\n', end=\"\")\n",
        "  for team in teams:\n",
        "    print(f'{team.name} = {team.lastMotivation:.2f}')\n",
        "  print(f'\\n')"
      ]
    },
    {
      "cell_type": "markdown",
      "source": [
        "## 4. Simulando as Oitavas de Final (16 melhores seleções)\n"
      ],
      "metadata": {
        "id": "XdK4ZV0g2pw-"
      }
    },
    {
      "cell_type": "code",
      "source": [
        "# Criando vaiáveis para as 2 melhores seleções de cada grupo:\n",
        "team1A = bestTeamsByGroup['A'][0]\n",
        "team2A = bestTeamsByGroup['A'][1]\n",
        "team1B = bestTeamsByGroup['B'][0]\n",
        "team2B = bestTeamsByGroup['B'][1]\n",
        "team1C = bestTeamsByGroup['C'][0]\n",
        "team2C = bestTeamsByGroup['C'][1]\n",
        "team1D = bestTeamsByGroup['D'][0]\n",
        "team2D = bestTeamsByGroup['D'][1]\n",
        "team1E = bestTeamsByGroup['E'][0]\n",
        "team2E = bestTeamsByGroup['E'][1]\n",
        "team1F = bestTeamsByGroup['F'][0]\n",
        "team2F = bestTeamsByGroup['F'][1]\n",
        "team1G = bestTeamsByGroup['G'][0]\n",
        "team2G = bestTeamsByGroup['G'][1]\n",
        "team1H = bestTeamsByGroup['H'][0]\n",
        "team2H = bestTeamsByGroup['H'][1]\n",
        "\n",
        "# Simulação das oitavas de final.\n",
        "quarter1 = team1A if team1A.motivation() > team2B.motivation() else team2B\n",
        "quarter2 = team1C if team1C.motivation() > team2D.motivation() else team2D\n",
        "quarter3 = team1E if team1E.motivation() > team2F.motivation() else team2F\n",
        "quarter4 = team1G if team1G.motivation() > team2H.motivation() else team2H\n",
        "quarter5 = team1B if team1B.motivation() > team2A.motivation() else team2A\n",
        "quarter6 = team1D if team1D.motivation() > team2C.motivation() else team2C\n",
        "quarter7 = team1F if team1F.motivation() > team2E.motivation() else team2E\n",
        "quarter8 = team1H if team1H.motivation() > team2G.motivation() else team2G\n",
        "\n",
        "print(f'{team1A.name} ({team1A.lastMotivation:.2f}) x {team2B.name} ({team2B.lastMotivation:.2f})')\n",
        "print(f'{team1C.name} ({team1C.lastMotivation:.2f}) x {team2D.name} ({team2D.lastMotivation:.2f})')\n",
        "print(f'{team1E.name} ({team1E.lastMotivation:.2f}) x {team2F.name} ({team2F.lastMotivation:.2f})')\n",
        "print(f'{team1G.name} ({team1G.lastMotivation:.2f}) x {team2H.name} ({team2H.lastMotivation:.2f})')\n",
        "print(f'{team1B.name} ({team1B.lastMotivation:.2f}) x {team2A.name} ({team2A.lastMotivation:.2f})')\n",
        "print(f'{team1D.name} ({team1D.lastMotivation:.2f}) x {team2C.name} ({team2C.lastMotivation:.2f})')\n",
        "print(f'{team1F.name} ({team1F.lastMotivation:.2f}) x {team2E.name} ({team2E.lastMotivation:.2f})')\n",
        "print(f'{team1H.name} ({team1H.lastMotivation:.2f}) x {team2G.name} ({team2G.lastMotivation:.2f})')\n"
      ],
      "metadata": {
        "id": "wdyYgEkV2uhA",
        "colab": {
          "base_uri": "https://localhost:8080/"
        },
        "outputId": "eeffa170-670a-48e2-db33-8a7c6428fc44"
      },
      "execution_count": 136,
      "outputs": [
        {
          "output_type": "stream",
          "name": "stdout",
          "text": [
            "SEN (80.66) x GAL (80.35)\n",
            "MEX (86.73) x TUN (75.63)\n",
            "ALE (72.65) x MAR (76.98)\n",
            "BRA (75.24) x URU (73.12)\n",
            "IRA (72.77) x HOL (80.62)\n",
            "FRA (73.92) x ARG (92.26)\n",
            "BEL (93.62) x COS (70.13)\n",
            "POR (89.16) x SER (76.62)\n"
          ]
        }
      ]
    },
    {
      "cell_type": "markdown",
      "source": [
        "## 5. Simulando as Quartas de Final (8 melhores seleções)"
      ],
      "metadata": {
        "id": "QoplyoqDGFQC"
      }
    },
    {
      "cell_type": "code",
      "source": [
        "# Simulação das quartas de final. \n",
        "\n",
        "semi1 = quarter1 if quarter1.motivation() > quarter2.motivation() else quarter2\n",
        "semi2 = quarter3 if quarter3.motivation() > quarter4.motivation() else quarter4\n",
        "semi3 = quarter5 if quarter5.motivation() > quarter6.motivation() else quarter6\n",
        "semi4 = quarter7 if quarter7.motivation() > quarter8.motivation() else quarter8\n",
        "\n",
        "print(f'{quarter1.name} ({quarter1.lastMotivation:.2f}) x {quarter2.name} ({quarter2.lastMotivation:.2f})')\n",
        "print(f'{quarter3.name} ({quarter3.lastMotivation:.2f}) x {quarter4.name} ({quarter4.lastMotivation:.2f})')\n",
        "print(f'{quarter5.name} ({quarter5.lastMotivation:.2f}) x {quarter6.name} ({quarter6.lastMotivation:.2f})')\n",
        "print(f'{quarter7.name} ({quarter7.lastMotivation:.2f}) x {quarter8.name} ({quarter8.lastMotivation:.2f})')\n"
      ],
      "metadata": {
        "id": "7PCQCm2BGFfV",
        "colab": {
          "base_uri": "https://localhost:8080/"
        },
        "outputId": "abbf8035-ec9b-47a4-c6f2-c4d446cbdda8"
      },
      "execution_count": 137,
      "outputs": [
        {
          "output_type": "stream",
          "name": "stdout",
          "text": [
            "SEN (77.52) x MEX (83.92)\n",
            "MAR (84.67) x BRA (97.10)\n",
            "HOL (82.98) x ARG (87.50)\n",
            "BEL (90.02) x POR (88.32)\n"
          ]
        }
      ]
    },
    {
      "cell_type": "markdown",
      "source": [
        "## 6. Simulando as Semifinais (4 melhores seleções)"
      ],
      "metadata": {
        "id": "15JaIEPIIxKO"
      }
    },
    {
      "cell_type": "code",
      "source": [
        "# Simulação da Semifinal. Já separando os times que vão para a final e os times que vão para a disputa de 3º lugar. \n",
        "\n",
        "final1 = None\n",
        "terceiro1 = None\n",
        "final2 = None\n",
        "terceiro2 = None\n",
        "\n",
        "if semi1.motivation() > semi2.motivation():\n",
        "  final1 = semi1\n",
        "  terceiro1 = semi2\n",
        "else:\n",
        "  final1 = semi2\n",
        "  terceiro1 = semi1\n",
        "\n",
        "if semi3.motivation() > semi4.motivation():\n",
        "  final2 = semi3\n",
        "  terceiro2 = semi4\n",
        "else:\n",
        "  final2 = semi4\n",
        "  terceiro2 = semi3\n",
        " \n",
        "print(f'{semi1.name} ({semi1.lastMotivation:.2f}) x {semi2.name} ({semi2.lastMotivation:.2f})')\n",
        "print(f'{semi3.name} ({semi3.lastMotivation:.2f}) x {semi4.name} ({semi4.lastMotivation:.2f})')\n"
      ],
      "metadata": {
        "id": "4STt-WtWIxWF",
        "colab": {
          "base_uri": "https://localhost:8080/"
        },
        "outputId": "0cee2f1e-10ab-4c87-b564-335e2dd79ea4"
      },
      "execution_count": 138,
      "outputs": [
        {
          "output_type": "stream",
          "name": "stdout",
          "text": [
            "MEX (73.21) x BRA (96.02)\n",
            "ARG (73.08) x BEL (85.59)\n"
          ]
        }
      ]
    },
    {
      "cell_type": "markdown",
      "source": [
        "## 7. Simulando a Final (2 melhores seleções)"
      ],
      "metadata": {
        "id": "BUgLpU_DLWCX"
      }
    },
    {
      "cell_type": "code",
      "source": [
        "# Final! \n",
        "\n",
        "if final1.motivation() > final2.motivation():\n",
        "  print(f'Campeão: {final1.name} ({final1.lastMotivation})')\n",
        "  print(f'Segundo: {final2.name} ({final2.lastMotivation}')\n",
        "else:\n",
        "  print(f'Campeão: {final2.name} ({final2.lastMotivation})')\n",
        "  print(f'Segundo: {final1.name} ({final1.lastMotivation})')\n",
        "\n",
        "if terceiro1.motivation() > terceiro2.motivation():\n",
        "  print(f'Terceiro: {terceiro1.name} ({terceiro1.lastMotivation})')\n",
        "  print(f'Quarto: {terceiro2.name} ({terceiro2.lastMotivation}')\n",
        "else:\n",
        "  print(f'Terceiro: {terceiro2.name} ({terceiro2.lastMotivation})')\n",
        "  print(f'Quarto: {terceiro1.name} ({terceiro1.lastMotivation})')"
      ],
      "metadata": {
        "id": "HbXxH9KbLWLq",
        "colab": {
          "base_uri": "https://localhost:8080/"
        },
        "outputId": "8ebddf96-a57a-4cf8-d5cb-12dfa048543a"
      },
      "execution_count": 139,
      "outputs": [
        {
          "output_type": "stream",
          "name": "stdout",
          "text": [
            "Campeão: BRA (93.85563185540023)\n",
            "Segundo: BEL (78.44687554554312\n",
            "Terceiro: MEX (79.52950623398357)\n",
            "Quarto: ARG (79.27225302487852\n"
          ]
        }
      ]
    }
  ]
}