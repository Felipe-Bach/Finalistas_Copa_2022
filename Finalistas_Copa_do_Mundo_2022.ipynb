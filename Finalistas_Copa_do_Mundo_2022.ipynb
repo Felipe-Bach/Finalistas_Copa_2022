{
  "nbformat": 4,
  "nbformat_minor": 0,
  "metadata": {
    "colab": {
      "provenance": [],
      "collapsed_sections": [],
      "include_colab_link": true
    },
    "kernelspec": {
      "name": "python3",
      "display_name": "Python 3"
    },
    "language_info": {
      "name": "python"
    }
  },
  "cells": [
    {
      "cell_type": "markdown",
      "metadata": {
        "id": "view-in-github",
        "colab_type": "text"
      },
      "source": [
        "<a href=\"https://colab.research.google.com/github/Felipe-Bach/Finalistas_Copa_2022/blob/main/Finalistas_Copa_do_Mundo_2022.ipynb\" target=\"_parent\"><img src=\"https://colab.research.google.com/assets/colab-badge.svg\" alt=\"Open In Colab\"/></a>"
      ]
    },
    {
      "cell_type": "markdown",
      "source": [
        "# Criando um algoritmo para supor os 4 finalistas da Copa de Mundo de 2022\n",
        "\n",
        "A ideia do código e propor os 4 finalistas da Copa do Mundo de 2022. O código usa como base o ranking da FIFA dos clubes para o mundial, bem como o disposição dos times em suas fases de grupos. \n",
        "\n",
        "Link da base: **[github.com/digitalinnovationone/live-coding-evitando-o-7x1-com-python-e-sql](https://github.com/digitalinnovationone/live-coding-evitando-o-7x1-com-python-e-sql)**"
      ],
      "metadata": {
        "id": "GJm-vq19ibVn"
      }
    },
    {
      "cell_type": "markdown",
      "source": [
        "## 1. Estrutura com os [Grupos e Seleções](https://global.discourse-cdn.com/nubank/original/4X/d/d/b/ddb82274a8785b60d1a19df8aeee768e87091292.jpeg), além de seus respectivos scores ([Ranking FIFA](https://www.ogol.com.br/ranking_fifa.php))"
      ],
      "metadata": {
        "id": "i1-xxLLdEgBE"
      }
    },
    {
      "cell_type": "code",
      "source": [
        "import pandas as pd\n",
        "\n",
        "df = pd.read_csv('https://raw.githubusercontent.com/digitalinnovationone/live-coding-evitando-o-7x1-com-python-e-sql/main/data.csv')"
      ],
      "metadata": {
        "id": "U1OsqB9oES9m"
      },
      "execution_count": 126,
      "outputs": []
    },
    {
      "cell_type": "markdown",
      "source": [
        "##2. Classe que representa um time, com suas características e comportamentos:"
      ],
      "metadata": {
        "id": "LT5NfOUNwXTa"
      }
    },
    {
      "cell_type": "code",
      "source": [
        "import random\n",
        "\n",
        "class Team:\n",
        "  BestScore = 1837.6 #Brasil\n",
        "  # TODO: Definir um construtor com os atributos adequados (tendo em vista o conteúdo de uma célula do CSV)\n",
        "  def __init__(self, content):\n",
        "    teamData = content.split('|')\n",
        "    self.name = teamData[0]\n",
        "    self.score = float(teamData[1])\n",
        "\n",
        "  def motivation(self):\n",
        "    \"\"\" \n",
        "    A pior seleção da copa (GAN, segundo a FIFA) têm 1393.5 de score, o qual equivale a 75% do melhor score (BRA).\n",
        "    Sendo assim, para que a aleatoriedade não seja tão determinante, podemos definir um intervalo inicial próximo de 75.\n",
        "    Por exemplo, GAN poderia ter valores entre 70~75 (aproximadamente). Por outro lado, BRA teria 70~100 (maior chance de vitória).\n",
        "    \"\"\"\n",
        "    # TODO: Com base no comentário/insight acima, criar uma lógica para atribuir a motivação ao time.\n",
        "    \n",
        "    self.lastMotivation = random.uniform(70, (self.score * 100 / Team.BestScore))\n",
        "    return self.lastMotivation"
      ],
      "metadata": {
        "id": "jc2iDAOjwEZK"
      },
      "execution_count": 127,
      "outputs": []
    },
    {
      "cell_type": "markdown",
      "source": [
        "##3. Simulando a Fase de Grupos:"
      ],
      "metadata": {
        "id": "0rJ55ARry6o9"
      }
    },
    {
      "cell_type": "code",
      "execution_count": 128,
      "metadata": {
        "id": "ZwHNqXF6aGxr",
        "colab": {
          "base_uri": "https://localhost:8080/"
        },
        "outputId": "de88d544-d8ad-41a8-f9bb-9cf2c19bdbc2"
      },
      "outputs": [
        {
          "output_type": "stream",
          "name": "stdout",
          "text": [
            "Grupo A: \n",
            "HOL = 87.53\n",
            "EQU = 78.95\n",
            "SEN = 76.73\n",
            "CAT = 70.80\n",
            "\n",
            "\n",
            "Grupo B: \n",
            "EUA = 82.30\n",
            "GAL = 77.60\n",
            "IRA = 72.80\n",
            "ING = 70.12\n",
            "\n",
            "\n",
            "Grupo C: \n",
            "ARG = 86.64\n",
            "MEX = 85.73\n",
            "POL = 71.88\n",
            "ARA = 70.70\n",
            "\n",
            "\n",
            "Grupo D: \n",
            "DIN = 81.93\n",
            "TUN = 75.51\n",
            "AUS = 75.07\n",
            "FRA = 72.17\n",
            "\n",
            "\n",
            "Grupo E: \n",
            "ESP = 91.23\n",
            "JAP = 82.67\n",
            "ALE = 80.77\n",
            "COS = 74.46\n",
            "\n",
            "\n",
            "Grupo F: \n",
            "BEL = 84.26\n",
            "CRO = 79.29\n",
            "CAN = 75.33\n",
            "MAR = 73.88\n",
            "\n",
            "\n",
            "Grupo G: \n",
            "BRA = 88.57\n",
            "SUI = 86.25\n",
            "SER = 79.22\n",
            "CAM = 71.63\n",
            "\n",
            "\n",
            "Grupo H: \n",
            "POR = 87.58\n",
            "GAN = 74.93\n",
            "URU = 72.65\n",
            "COR = 71.56\n",
            "\n",
            "\n"
          ]
        }
      ],
      "source": [
        "# Mapa em que a chave será a letra do grupo e o valor as seleções (que ordenaremos pelas \"melhores\").\n",
        "bestTeamsByGroup = {}\n",
        "# Percorre o dataframe (dados do CSV) para criar nossos objetos/seleções.\n",
        "for label, content in df.items():\n",
        "  # TODO: Instanciar as 4 seleções do grupo, com seus respectivos nomes e score.\n",
        "  team1 = Team(content[0])\n",
        "  team2 = Team(content[1])\n",
        "  team3 = Team(content[2])\n",
        "  team4 = Team(content[3])\n",
        "\n",
        "\n",
        "  # TODO: Simular os melhores do grupo com base na motivação de cada seleção. \n",
        "  #       Calculada a partir do seu ranking FIFA aliado a uma pitada de aleatoriedade.\n",
        "  \n",
        "  bestTeamsByGroup[label] = sorted([team1, team2, team3, team4], key=Team.motivation, reverse=True)\n",
        "# TODO: Imprimir os grupos, ordenados pelas melhores seleções de cada (apenas 2 se classificam)\n",
        "\n",
        "for grupo, teams in bestTeamsByGroup.items():\n",
        "  print(f'Grupo {grupo}: \\n', end=\"\")\n",
        "  for team in teams:\n",
        "    print(f'{team.name} = {team.lastMotivation:.2f}')\n",
        "  print(f'\\n')"
      ]
    },
    {
      "cell_type": "markdown",
      "source": [
        "## 4. Simulando as Oitavas de Final (16 melhores seleções)\n"
      ],
      "metadata": {
        "id": "XdK4ZV0g2pw-"
      }
    },
    {
      "cell_type": "code",
      "source": [
        "# Criando vaiáveis para as 2 melhores seleções de cada grupo:\n",
        "team1A = bestTeamsByGroup['A'][0]\n",
        "team2A = bestTeamsByGroup['A'][1]\n",
        "team1B = bestTeamsByGroup['B'][0]\n",
        "team2B = bestTeamsByGroup['B'][1]\n",
        "team1C = bestTeamsByGroup['C'][0]\n",
        "team2C = bestTeamsByGroup['C'][1]\n",
        "team1D = bestTeamsByGroup['D'][0]\n",
        "team2D = bestTeamsByGroup['D'][1]\n",
        "team1E = bestTeamsByGroup['E'][0]\n",
        "team2E = bestTeamsByGroup['E'][1]\n",
        "team1F = bestTeamsByGroup['F'][0]\n",
        "team2F = bestTeamsByGroup['F'][1]\n",
        "team1G = bestTeamsByGroup['G'][0]\n",
        "team2G = bestTeamsByGroup['G'][1]\n",
        "team1H = bestTeamsByGroup['H'][0]\n",
        "team2H = bestTeamsByGroup['H'][1]\n",
        "\n",
        "# TODO: Simular os confrontos das Oitavas de Final (randomizando novamente suas respectivas motivações).\n",
        "#       Além disso, também definir os classificados para as quartas de final em novas vaiáveis:\n",
        "quarter1 = team1A if team1A.motivation() > team2B.motivation() else team2B\n",
        "quarter2 = team1C if team1C.motivation() > team2D.motivation() else team2D\n",
        "quarter3 = team1E if team1E.motivation() > team2F.motivation() else team2F\n",
        "quarter4 = team1G if team1G.motivation() > team2H.motivation() else team2H\n",
        "quarter5 = team1B if team1B.motivation() > team2A.motivation() else team2A\n",
        "quarter6 = team1D if team1D.motivation() > team2C.motivation() else team2C\n",
        "quarter7 = team1F if team1F.motivation() > team2E.motivation() else team2E\n",
        "quarter8 = team1H if team1H.motivation() > team2G.motivation() else team2G\n",
        "\n",
        "# TODO: Imprimir os \"resultados\" dos confrontos realizados nas Oitavas de Final:\n",
        "print(f'{team1A.name} ({team1A.lastMotivation:.2f}) x {team2B.name} ({team2B.lastMotivation:.2f})')\n",
        "print(f'{team1C.name} ({team1C.lastMotivation:.2f}) x {team2D.name} ({team2D.lastMotivation:.2f})')\n",
        "print(f'{team1E.name} ({team1E.lastMotivation:.2f}) x {team2F.name} ({team2F.lastMotivation:.2f})')\n",
        "print(f'{team1G.name} ({team1G.lastMotivation:.2f}) x {team2H.name} ({team2H.lastMotivation:.2f})')\n",
        "print(f'{team1B.name} ({team1B.lastMotivation:.2f}) x {team2A.name} ({team2A.lastMotivation:.2f})')\n",
        "print(f'{team1D.name} ({team1D.lastMotivation:.2f}) x {team2C.name} ({team2C.lastMotivation:.2f})')\n",
        "print(f'{team1F.name} ({team1F.lastMotivation:.2f}) x {team2E.name} ({team2E.lastMotivation:.2f})')\n",
        "print(f'{team1H.name} ({team1H.lastMotivation:.2f}) x {team2G.name} ({team2G.lastMotivation:.2f})')\n"
      ],
      "metadata": {
        "id": "wdyYgEkV2uhA",
        "colab": {
          "base_uri": "https://localhost:8080/"
        },
        "outputId": "58fc9fc0-a1d0-49f8-d000-311d7cc0f76b"
      },
      "execution_count": 129,
      "outputs": [
        {
          "output_type": "stream",
          "name": "stdout",
          "text": [
            "HOL (81.13) x GAL (83.50)\n",
            "ARG (78.11) x TUN (72.24)\n",
            "ESP (74.49) x CRO (79.65)\n",
            "BRA (74.50) x GAN (71.39)\n",
            "EUA (72.96) x EQU (75.78)\n",
            "DIN (77.79) x MEX (73.79)\n",
            "BEL (76.88) x JAP (71.17)\n",
            "POR (82.32) x SUI (72.23)\n"
          ]
        }
      ]
    },
    {
      "cell_type": "markdown",
      "source": [
        "## 5. Simulando as Quartas de Final (8 melhores seleções)"
      ],
      "metadata": {
        "id": "QoplyoqDGFQC"
      }
    },
    {
      "cell_type": "code",
      "source": [
        "# TODO: Simular os confrontos das Quartas de Final (randomizando novamente suas respectivas motivações).\n",
        "#       Além disso, também definir os classificados para as semifinais em novas vaiáveis:\n",
        "\n",
        "semi1 = quarter1 if quarter1.motivation() > quarter2.motivation() else quarter2\n",
        "semi2 = quarter3 if quarter3.motivation() > quarter4.motivation() else quarter4\n",
        "semi3 = quarter5 if quarter5.motivation() > quarter6.motivation() else quarter6\n",
        "semi4 = quarter7 if quarter7.motivation() > quarter8.motivation() else quarter8\n",
        "\n",
        "# TODO: Imprimir os \"resultados\" dos confrontos realizados nas Quartas de Final:\n",
        "print(f'{quarter1.name} ({quarter1.lastMotivation:.2f}) x {quarter2.name} ({quarter2.lastMotivation:.2f})')\n",
        "print(f'{quarter3.name} ({quarter3.lastMotivation:.2f}) x {quarter4.name} ({quarter4.lastMotivation:.2f})')\n",
        "print(f'{quarter5.name} ({quarter5.lastMotivation:.2f}) x {quarter6.name} ({quarter6.lastMotivation:.2f})')\n",
        "print(f'{quarter7.name} ({quarter7.lastMotivation:.2f}) x {quarter8.name} ({quarter8.lastMotivation:.2f})')\n"
      ],
      "metadata": {
        "id": "7PCQCm2BGFfV",
        "colab": {
          "base_uri": "https://localhost:8080/"
        },
        "outputId": "5e88cc8c-2c3e-4fd7-aecf-eb2bc340c243"
      },
      "execution_count": 130,
      "outputs": [
        {
          "output_type": "stream",
          "name": "stdout",
          "text": [
            "GAL (78.91) x ARG (72.49)\n",
            "CRO (73.64) x BRA (84.83)\n",
            "EQU (76.78) x DIN (86.69)\n",
            "BEL (93.48) x POR (88.86)\n"
          ]
        }
      ]
    },
    {
      "cell_type": "markdown",
      "source": [
        "## 6. Simulando as Semifinais (4 melhores seleções)"
      ],
      "metadata": {
        "id": "15JaIEPIIxKO"
      }
    },
    {
      "cell_type": "code",
      "source": [
        "# TODO: Simular os confrontos das Semifinais (randomizando novamente suas respectivas motivações).\n",
        "#       Além disso, também definir os classificados para a final e disputa de 3º e 4º em novas vaiáveis:\n",
        "final1 = None\n",
        "terceiro1 = None\n",
        "final2 = None\n",
        "terceiro2 = None\n",
        "\n",
        "if semi1.motivation() > semi2.motivation():\n",
        "  final1 = semi1\n",
        "  terceiro1 = semi2\n",
        "else:\n",
        "  final1 = semi2\n",
        "  terceiro1 = semi1\n",
        "\n",
        "if semi3.motivation() > semi4.motivation():\n",
        "  final2 = semi3\n",
        "  terceiro2 = semi4\n",
        "else:\n",
        "  final2 = semi4\n",
        "  terceiro2 = semi3\n",
        " \n",
        "# TODO: Imprimir os \"resultados\" dos confrontos realizados nas Semifinais:\n",
        "\n",
        "print(f'{semi1.name} ({semi1.lastMotivation:.2f}) x {semi2.name} ({semi2.lastMotivation:.2f})')\n",
        "print(f'{semi3.name} ({semi3.lastMotivation:.2f}) x {semi4.name} ({semi4.lastMotivation:.2f})')\n"
      ],
      "metadata": {
        "id": "4STt-WtWIxWF",
        "colab": {
          "base_uri": "https://localhost:8080/"
        },
        "outputId": "c18ae509-efbb-46dc-c62d-e5114171968b"
      },
      "execution_count": 131,
      "outputs": [
        {
          "output_type": "stream",
          "name": "stdout",
          "text": [
            "GAL (84.34) x BRA (95.43)\n",
            "DIN (77.01) x BEL (75.85)\n"
          ]
        }
      ]
    },
    {
      "cell_type": "markdown",
      "source": [
        "## 7. Simulando a Final (2 melhores seleções)"
      ],
      "metadata": {
        "id": "BUgLpU_DLWCX"
      }
    },
    {
      "cell_type": "code",
      "source": [
        "# TODO: Simular os confrontos das Finais (randomizando novamente suas respectivas motivações).\n",
        "#       Além disso, também definir os 4 primeiros colocamos da Copa do Mundo de 2022:\n",
        "\n",
        "if final1.motivation() > final2.motivation():\n",
        "  print(f'Campeão: {final1.name} ({final1.lastMotivation})')\n",
        "  print(f'Segundo: {final2.name} ({final2.lastMotivation}')\n",
        "else:\n",
        "  print(f'Campeão: {final2.name} ({final2.lastMotivation})')\n",
        "  print(f'Segundo: {final1.name} ({final1.lastMotivation})')\n",
        "\n",
        "if terceiro1.motivation() > terceiro2.motivation():\n",
        "  print(f'Terceiro: {terceiro1.name} ({terceiro1.lastMotivation})')\n",
        "  print(f'Quarto: {terceiro2.name} ({terceiro2.lastMotivation}')\n",
        "else:\n",
        "  print(f'Terceiro: {terceiro2.name} ({terceiro2.lastMotivation})')\n",
        "  print(f'Quarto: {terceiro1.name} ({terceiro1.lastMotivation})')"
      ],
      "metadata": {
        "id": "HbXxH9KbLWLq",
        "colab": {
          "base_uri": "https://localhost:8080/"
        },
        "outputId": "98c09e82-5f65-49b5-cd5c-be26b8cdb30d"
      },
      "execution_count": 132,
      "outputs": [
        {
          "output_type": "stream",
          "name": "stdout",
          "text": [
            "Campeão: BRA (91.79421355521129)\n",
            "Segundo: DIN (83.42435872352164\n",
            "Terceiro: BEL (95.95774621833137)\n",
            "Quarto: GAL (76.40244772145986)\n"
          ]
        }
      ]
    }
  ]
}